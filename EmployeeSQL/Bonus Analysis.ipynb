{
 "cells": [
  {
   "cell_type": "code",
   "execution_count": 1,
   "metadata": {},
   "outputs": [],
   "source": [
    "# Import Dependencies\n",
    "import pandas as pd\n",
    "import matplotlib.pyplot as plt\n",
    "import os\n",
    "import numpy as np\n",
    "import scipy.stats as sts"
   ]
  },
  {
   "cell_type": "code",
   "execution_count": 2,
   "metadata": {},
   "outputs": [],
   "source": [
    "# Create Connection through SQL Alchemy to get data from SQL\n",
    "   from sqlalchemy import create_engine\n",
    "   engine = create_engine(f'postgresql://postgres:<password>@localhost:5432/sql_challenge3')\n",
    "   connection = engine.connect()"
   ]
  },
  {
   "cell_type": "code",
   "execution_count": 3,
   "metadata": {},
   "outputs": [],
   "source": [
    "# Read in data from SQL as Pandas data frames\n",
    "salaries_df = pd.read_sql_table(\"salaries\", con=connection)\n",
    "titles_df = pd.read_sql_table(\"titles\", con=connection)\n",
    "employees_df = pd.read_sql_table(\"employees\", con=connection)"
   ]
  },
  {
   "cell_type": "code",
   "execution_count": 5,
   "metadata": {},
   "outputs": [
    {
     "data": {
      "text/html": [
       "<div>\n",
       "<style scoped>\n",
       "    .dataframe tbody tr th:only-of-type {\n",
       "        vertical-align: middle;\n",
       "    }\n",
       "\n",
       "    .dataframe tbody tr th {\n",
       "        vertical-align: top;\n",
       "    }\n",
       "\n",
       "    .dataframe thead th {\n",
       "        text-align: right;\n",
       "    }\n",
       "</style>\n",
       "<table border=\"1\" class=\"dataframe\">\n",
       "  <thead>\n",
       "    <tr style=\"text-align: right;\">\n",
       "      <th></th>\n",
       "      <th>emp_no</th>\n",
       "      <th>title_id</th>\n",
       "      <th>birth_date</th>\n",
       "      <th>first_name</th>\n",
       "      <th>last_name</th>\n",
       "      <th>sex</th>\n",
       "      <th>hire_date</th>\n",
       "    </tr>\n",
       "  </thead>\n",
       "  <tbody>\n",
       "    <tr>\n",
       "      <th>0</th>\n",
       "      <td>473302</td>\n",
       "      <td>s0001</td>\n",
       "      <td>1953-07-25</td>\n",
       "      <td>Hideyuki</td>\n",
       "      <td>Zallocco</td>\n",
       "      <td>M</td>\n",
       "      <td>1990-04-28</td>\n",
       "    </tr>\n",
       "    <tr>\n",
       "      <th>1</th>\n",
       "      <td>475053</td>\n",
       "      <td>e0002</td>\n",
       "      <td>1954-11-18</td>\n",
       "      <td>Byong</td>\n",
       "      <td>Delgrande</td>\n",
       "      <td>F</td>\n",
       "      <td>1991-09-07</td>\n",
       "    </tr>\n",
       "    <tr>\n",
       "      <th>2</th>\n",
       "      <td>57444</td>\n",
       "      <td>e0002</td>\n",
       "      <td>1958-01-30</td>\n",
       "      <td>Berry</td>\n",
       "      <td>Babb</td>\n",
       "      <td>F</td>\n",
       "      <td>1992-03-21</td>\n",
       "    </tr>\n",
       "    <tr>\n",
       "      <th>3</th>\n",
       "      <td>421786</td>\n",
       "      <td>s0001</td>\n",
       "      <td>1957-09-28</td>\n",
       "      <td>Xiong</td>\n",
       "      <td>Verhoeff</td>\n",
       "      <td>M</td>\n",
       "      <td>1987-11-26</td>\n",
       "    </tr>\n",
       "    <tr>\n",
       "      <th>4</th>\n",
       "      <td>282238</td>\n",
       "      <td>e0003</td>\n",
       "      <td>1952-10-28</td>\n",
       "      <td>Abdelkader</td>\n",
       "      <td>Baumann</td>\n",
       "      <td>F</td>\n",
       "      <td>1991-01-18</td>\n",
       "    </tr>\n",
       "  </tbody>\n",
       "</table>\n",
       "</div>"
      ],
      "text/plain": [
       "   emp_no title_id birth_date  first_name  last_name sex  hire_date\n",
       "0  473302    s0001 1953-07-25    Hideyuki   Zallocco   M 1990-04-28\n",
       "1  475053    e0002 1954-11-18       Byong  Delgrande   F 1991-09-07\n",
       "2   57444    e0002 1958-01-30       Berry       Babb   F 1992-03-21\n",
       "3  421786    s0001 1957-09-28       Xiong   Verhoeff   M 1987-11-26\n",
       "4  282238    e0003 1952-10-28  Abdelkader    Baumann   F 1991-01-18"
      ]
     },
     "execution_count": 5,
     "metadata": {},
     "output_type": "execute_result"
    }
   ],
   "source": [
    "# Renaming variable for later use\n",
    "employees_df.rename(columns={\"emp_title_id\":\"title_id\"}, inplace=True)\n",
    "employees_df.head()"
   ]
  },
  {
   "cell_type": "code",
   "execution_count": 8,
   "metadata": {
    "scrolled": true
   },
   "outputs": [
    {
     "data": {
      "image/png": "[encoded data removed]",
      "text/plain": [
       "<Figure size 720x432 with 1 Axes>"
      ]
     },
     "metadata": {
      "needs_background": "light"
     },
     "output_type": "display_data"
    }
   ],
   "source": [
    "# Identify salary data\n",
    "salaries = salaries_df['salary']\n",
    "\n",
    "# Plot histogram figure\n",
    "plt.figure(figsize=(10,6))\n",
    "plt.hist(salaries, color='mediumspringgreen')\n",
    "\n",
    "# Setting X,Y axis labels and figure title\n",
    "plt.xlabel('Salary ($)', fontsize=12)\n",
    "plt.ylabel('Frequency', fontsize=12)\n",
    "plt.title('Salary Ranges for Employees', fontsize=16)\n",
    "\n",
    "# Displaying and Saving Figure\n",
    "plt.tight_layout()\n",
    "plt.savefig('images/histogram.png')\n",
    "plt.show()"
   ]
  },
  {
   "cell_type": "code",
   "execution_count": 9,
   "metadata": {},
   "outputs": [
    {
     "data": {
      "text/html": [
       "<style  type=\"text/css\" >\n",
       "</style><table id=\"T_1f62c3da_6a6a_11eb_a233_d8f2cab5d9a6\" ><thead>    <tr>        <th class=\"blank level0\" ></th>        <th class=\"col_heading level0 col0\" >avg salary</th>    </tr>    <tr>        <th class=\"index_name level0\" >title</th>        <th class=\"blank\" ></th>    </tr></thead><tbody>\n",
       "                <tr>\n",
       "                        <th id=\"T_1f62c3da_6a6a_11eb_a233_d8f2cab5d9a6level0_row0\" class=\"row_heading level0 row0\" >Assistant Engineer</th>\n",
       "                        <td id=\"T_1f62c3da_6a6a_11eb_a233_d8f2cab5d9a6row0_col0\" class=\"data row0 col0\" >$48,564.43</td>\n",
       "            </tr>\n",
       "            <tr>\n",
       "                        <th id=\"T_1f62c3da_6a6a_11eb_a233_d8f2cab5d9a6level0_row1\" class=\"row_heading level0 row1\" >Engineer</th>\n",
       "                        <td id=\"T_1f62c3da_6a6a_11eb_a233_d8f2cab5d9a6row1_col0\" class=\"data row1 col0\" >$48,535.34</td>\n",
       "            </tr>\n",
       "            <tr>\n",
       "                        <th id=\"T_1f62c3da_6a6a_11eb_a233_d8f2cab5d9a6level0_row2\" class=\"row_heading level0 row2\" >Manager</th>\n",
       "                        <td id=\"T_1f62c3da_6a6a_11eb_a233_d8f2cab5d9a6row2_col0\" class=\"data row2 col0\" >$51,531.04</td>\n",
       "            </tr>\n",
       "            <tr>\n",
       "                        <th id=\"T_1f62c3da_6a6a_11eb_a233_d8f2cab5d9a6level0_row3\" class=\"row_heading level0 row3\" >Senior Engineer</th>\n",
       "                        <td id=\"T_1f62c3da_6a6a_11eb_a233_d8f2cab5d9a6row3_col0\" class=\"data row3 col0\" >$48,506.80</td>\n",
       "            </tr>\n",
       "            <tr>\n",
       "                        <th id=\"T_1f62c3da_6a6a_11eb_a233_d8f2cab5d9a6level0_row4\" class=\"row_heading level0 row4\" >Senior Staff</th>\n",
       "                        <td id=\"T_1f62c3da_6a6a_11eb_a233_d8f2cab5d9a6row4_col0\" class=\"data row4 col0\" >$58,550.17</td>\n",
       "            </tr>\n",
       "            <tr>\n",
       "                        <th id=\"T_1f62c3da_6a6a_11eb_a233_d8f2cab5d9a6level0_row5\" class=\"row_heading level0 row5\" >Staff</th>\n",
       "                        <td id=\"T_1f62c3da_6a6a_11eb_a233_d8f2cab5d9a6row5_col0\" class=\"data row5 col0\" >$58,465.38</td>\n",
       "            </tr>\n",
       "            <tr>\n",
       "                        <th id=\"T_1f62c3da_6a6a_11eb_a233_d8f2cab5d9a6level0_row6\" class=\"row_heading level0 row6\" >Technique Leader</th>\n",
       "                        <td id=\"T_1f62c3da_6a6a_11eb_a233_d8f2cab5d9a6row6_col0\" class=\"data row6 col0\" >$48,582.90</td>\n",
       "            </tr>\n",
       "    </tbody></table>"
      ],
      "text/plain": [
       "<pandas.io.formats.style.Styler at 0x1d3351efbe0>"
      ]
     },
     "execution_count": 9,
     "metadata": {},
     "output_type": "execute_result"
    }
   ],
   "source": [
    "# Create a merged data frame on variables of interest to create a data frame used in next plot\n",
    "emp_salaries_df = pd.merge(employees_df, salaries_df, on=\"emp_no\")\n",
    "title_salaries_df = pd.merge(emp_salaries_df, titles_df, on=\"title_id\")\n",
    "\n",
    "# Removing unneccessary variables\n",
    "title_salaries_df.drop([\"emp_no\", \"title_id\", \"birth_date\", \"first_name\", \"last_name\", \"sex\", \"hire_date\"], \n",
    "                        axis=1, inplace=True)\n",
    "\n",
    "# Grouping the salary data by salary title\n",
    "average_salaries = title_salaries_df.groupby(\"title\").mean().round(2)\n",
    "\n",
    "# Formatting values to be in Dollars\n",
    "average_salaries.rename(columns={\"salary\":\"avg salary\"}, inplace=True)\n",
    "average_salaries.style.format(\"${:,.2f}\")"
   ]
  },
  {
   "cell_type": "code",
   "execution_count": 14,
   "metadata": {},
   "outputs": [
    {
     "data": {
      "image/png": "[encoded data removed]",
      "text/plain": [
       "<Figure size 720x432 with 1 Axes>"
      ]
     },
     "metadata": {
      "needs_background": "light"
     },
     "output_type": "display_data"
    }
   ],
   "source": [
    "# Setting x and y values and tick marks\n",
    "x_values = average_salaries.index\n",
    "y_values = average_salaries[\"avg salary\"]\n",
    "xticks = np.arange(len(x_values))\n",
    "\n",
    "# Choosing colors for each title\n",
    "colors=[\"rosybrown\", \"blueviolet\", \"darkkhaki\", \"palegoldenrod\", \"seagreen\", \"lightseagreen\", \"orchid\"]\n",
    "\n",
    "# Plotting the bar graph\n",
    "plt.figure(figsize=(10,6))\n",
    "plt.bar(x_values, y_values, color=colors, alpha=0.6, align=\"center\")\n",
    "\n",
    "# Setting the tick mark locations for x axis\n",
    "tick_locations = [value for value in x_values]\n",
    "plt.xticks(tick_locations, x_values, rotation=25)\n",
    "\n",
    "# Setting the x and y labels and title of plot\n",
    "plt.xlabel(\"Title\", fontsize=12)\n",
    "plt.ylabel(\"Salary ($)\", fontsize=12)\n",
    "plt.title(\"Average Salary by Title\", fontsize=16)\n",
    "\n",
    "# Controlling the x and y limits\n",
    "plt.xlim(-0.75, len(x_values)-0.25)\n",
    "plt.ylim(0, max(y_values)+7000)\n",
    "\n",
    "# Displaying and saving the plot\n",
    "plt.tight_layout()\n",
    "plt.savefig(\"images/avg_sal_title.png\")\n",
    "plt.show()"
   ]
  }
 ],
 "metadata": {
  "kernelspec": {
   "display_name": "Python [conda env:PythonData] *",
   "language": "python",
   "name": "conda-env-PythonData-py"
  },
  "language_info": {
   "codemirror_mode": {
    "name": "ipython",
    "version": 3
   },
   "file_extension": ".py",
   "mimetype": "text/x-python",
   "name": "python",
   "nbconvert_exporter": "python",
   "pygments_lexer": "ipython3",
   "version": "3.6.10"
  }
 },
 "nbformat": 4,
 "nbformat_minor": 4
}
